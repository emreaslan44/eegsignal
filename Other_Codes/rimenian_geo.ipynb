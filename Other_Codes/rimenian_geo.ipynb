{
 "cells": [
  {
   "attachments": {},
   "cell_type": "markdown",
   "metadata": {},
   "source": [
    "Expected Libraries"
   ]
  },
  {
   "cell_type": "code",
   "execution_count": 25,
   "metadata": {},
   "outputs": [],
   "source": [
    "import numpy as np\n",
    "import matplotlib.pyplot as plt\n",
    "import pandas as pd\n",
    "import joblib\n",
    "import sklearn\n",
    "from pyriemann.classification import MDM\n",
    "from pyriemann.utils.distance import distance_riemann \n",
    "from tqdm import tqdm\n",
    "from collections import OrderedDict\n",
    "from scipy.io import loadmat\n",
    "import numpy as np\n",
    "import itertools\n",
    "from mne.filter import filter_data\n",
    "from pyriemann.estimation import Covariances\n",
    "from sklearn.pipeline import make_pipeline\n",
    "from sklearn.discriminant_analysis import LinearDiscriminantAnalysis as LDA\n",
    "from sklearn.linear_model import LogisticRegression as LR\n",
    "from sklearn.svm import SVC\n",
    "from random import randrange\n",
    "from sklearn import linear_model\n",
    "from pyriemann.tangentspace import TangentSpace\n",
    "from sklearn.model_selection import cross_val_score, KFold\n",
    "from sklearn.linear_model import Lasso\n",
    "from sklearn.tree import DecisionTreeClassifier #Decision Tree\n",
    "from sklearn.ensemble import RandomForestClassifier #Random Forest\n",
    "from sklearn.neighbors import KNeighborsClassifier #KNN\n",
    "from pyriemann.spatialfilters import CSP\n",
    "\"\"\"Import Other Modules From Libraries\"\"\"\n",
    "import sys\n",
    "# adding Folder_2 to the system path\n",
    "sys.path.insert(0, r'C:\\Users\\yasar\\Masaüstü\\SDP_Final_Codes\\Libraries')\n",
    "\n",
    "from rimenian_functions import get_conv_matrix, recenter_data\n",
    "from data_formating import data_formating\n",
    "from import_mat_file import import_channels\n",
    "from ml_models_csp_rie import multi_ml_model_train_test"
   ]
  },
  {
   "cell_type": "code",
   "execution_count": 22,
   "metadata": {},
   "outputs": [],
   "source": [
    "def filter_InData(X, fs = 256,l_freq1 = 2, h_freq1 = 30):\n",
    "  \"\"\"band pass iir filter \"\"\"\n",
    "  filtered_eeg = filter_data(data = X,sfreq = fs,l_freq = l_freq1, h_freq = h_freq1, method='iir',verbose=0)\n",
    "  return filtered_eeg"
   ]
  },
  {
   "cell_type": "code",
   "execution_count": 23,
   "metadata": {},
   "outputs": [],
   "source": [
    "def label_Generator(duration = 90):\n",
    "  \"\"\"Creating Label based on expetimental setup\"\"\"\n",
    "  ones = np.zeros(duration)\n",
    "  for i in range(duration):\n",
    "    if i > 9 and i<20:\n",
    "      ones[i] = 1\n",
    "    elif i > 29 and i<40:\n",
    "      ones[i] = 1\n",
    "    elif i > 49 and i<60:\n",
    "      ones[i] = 1\n",
    "    elif i > 69 and i<80:\n",
    "      ones[i] = 1\n",
    "  a1 = ones\n",
    "  #Labels = np.concatenate((a1, a1, a1, a1), axis=0, out=None, dtype=None, casting=\"same_kind\")\n",
    "  return a1"
   ]
  },
  {
   "attachments": {},
   "cell_type": "markdown",
   "metadata": {},
   "source": [
    "Without Filtering Data and used Channels: ['CH0', 'CH1', 'CH3', 'CH4']"
   ]
  },
  {
   "cell_type": "code",
   "execution_count": 27,
   "metadata": {},
   "outputs": [
    {
     "name": "stdout",
     "output_type": "stream",
     "text": [
      "(23040, 4)\n",
      "(90, 4, 4)\n",
      "[0.6916666666666665, 0.7199999999999998, 0.7194444444444443, 0.5555555555555556, 0.7538888888888888, 0.5966666666666666, 0.6588888888888889, 0.6683333333333332, 0.7266666666666668, 0.7249999999999999, 0.7555555555555555]\n"
     ]
    }
   ],
   "source": [
    "\n",
    "\n",
    "# df= pd.read_csv(r\"C:\\Users\\yasar\\Masaüstü\\SDP_Final_Codes\\Other_Codes\\Filtered_adgEye_2_32.csv\")\n",
    "path_of_data = r'C:\\Users\\yasar\\Masaüstü\\SDP_Final_Codes\\eyeopenclose\\subject1.mat'\n",
    "\n",
    "df_ch = import_channels(mat_file_path = path_of_data, ch_array=['CH0', 'CH1', 'CH3', 'time'] )\n",
    "print(df_ch.to_numpy().shape)\n",
    "\n",
    "data = df_ch.to_numpy()\n",
    "formatted_data = data_formating(df = data, Fs= 256, Ch = 4)\n",
    "inlabel = label_Generator(duration = 90)\n",
    "#indata = filter_InData(X = formatted_data, fs = 256, l_freq1 = 2, h_freq1 = 15)\n",
    "indata = formatted_data\n",
    "train_cov, train_labl = get_conv_matrix(X = indata, Label=inlabel, epoch_start = 0, epoch_duration = 1)\n",
    "\n",
    "accuracy_matrix = multi_ml_model_train_test(indata, inlabel, train_cov)\n",
    "\n",
    "print(accuracy_matrix)\n"
   ]
  }
 ],
 "metadata": {
  "kernelspec": {
   "display_name": "Python 3",
   "language": "python",
   "name": "python3"
  },
  "language_info": {
   "codemirror_mode": {
    "name": "ipython",
    "version": 3
   },
   "file_extension": ".py",
   "mimetype": "text/x-python",
   "name": "python",
   "nbconvert_exporter": "python",
   "pygments_lexer": "ipython3",
   "version": "3.9.10 (tags/v3.9.10:f2f3f53, Jan 17 2022, 15:14:21) [MSC v.1929 64 bit (AMD64)]"
  },
  "orig_nbformat": 4,
  "vscode": {
   "interpreter": {
    "hash": "f7295e586c17f76a400b4f1319292f2c67baa7dae943ec368624910887a5820d"
   }
  }
 },
 "nbformat": 4,
 "nbformat_minor": 2
}
